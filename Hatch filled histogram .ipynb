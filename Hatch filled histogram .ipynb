{
 "cells": [
  {
   "cell_type": "code",
   "execution_count": 25,
   "id": "9e474b67",
   "metadata": {},
   "outputs": [],
   "source": [
    "import itertools\n",
    "from functools import partial\n",
    "\n",
    "import numpy as np\n",
    "import matplotlib.pyplot as plt\n",
    "import matplotlib.ticker as mticker\n",
    "from cycler import cycler"
   ]
  },
  {
   "cell_type": "code",
   "execution_count": 26,
   "id": "725d509b",
   "metadata": {},
   "outputs": [],
   "source": [
    "def hatch_filled(ax, edges, values, bottoms=None, orientation='v',**kwargs):\n",
    "    \n",
    "    print(orientation)\n",
    "    if orientation not in 'hv':\n",
    "        raise ValueError(\"orientation must be in {{'h', 'v'}} \"\n",
    "                         \"not {o}\".format(o=orientation))\n",
    "\n",
    "    kwargs.setdefault('step', 'post')\n",
    "    kwargs.setdefault('alpha', 0.7)\n",
    "    edges = np.asarray(edges)\n",
    "    values = np.asarray(values)\n",
    "    if len(edges) - 1 != len(values):\n",
    "        raise ValueError('Must provide one more bin edge than value not: '\n",
    "                         'len(edges): {lb} len(values): {lv}'.format(lb=len(edges), lv=len(values)))\n",
    "\n",
    "    if bottoms is None:\n",
    "        bottoms = 0\n",
    "    bottoms = np.broadcast_to(bottoms, values.shape)\n",
    "\n",
    "    values = np.append(values, values[-1])\n",
    "    bottoms = np.append(bottoms, bottoms[-1])\n",
    "    if orientation == 'h':\n",
    "        return ax.fill_betweenx(edges, values, bottoms,**kwargs)\n",
    "    elif orientation == 'v':\n",
    "        return ax.fill_between(edges, values, bottoms,**kwargs)\n",
    "    else:\n",
    "        raise AssertionError(\"you should never be here\")"
   ]
  },
  {
   "cell_type": "code",
   "execution_count": 36,
   "id": "a4a0c2aa",
   "metadata": {},
   "outputs": [],
   "source": [
    "def stack_hist(ax, stacked_data, sty_cycle, bottoms=None,hist_func=None, labels=None,plot_func=None, plot_kwargs=None):\n",
    "    \n",
    "    if hist_func is None:\n",
    "        hist_func = np.histogram\n",
    "\n",
    "    if plot_func is None:\n",
    "        plot_func = hatch_filled\n",
    "\n",
    "    if plot_kwargs is None:\n",
    "        plot_kwargs = {}\n",
    "    print(plot_kwargs)\n",
    "    try:\n",
    "        l_keys = stacked_data.keys()\n",
    "        label_data = True\n",
    "        if labels is None:\n",
    "            labels = l_keys\n",
    "\n",
    "    except AttributeError:\n",
    "        label_data = False\n",
    "        if labels is None:\n",
    "            labels = itertools.repeat(None)\n",
    "\n",
    "    if label_data:\n",
    "        loop_iter = enumerate((stacked_data[lab], lab, s)for lab, s in zip(labels, sty_cycle))\n",
    "    else:\n",
    "        loop_iter = enumerate(zip(stacked_data, labels, sty_cycle))\n",
    "\n",
    "    arts = {}\n",
    "    for j, (data, label, sty) in loop_iter:\n",
    "        if label is None:\n",
    "            label = 'dflt set {n}'.format(n=j)\n",
    "        label = sty.pop('label', label)\n",
    "        vals, edges = hist_func(data)\n",
    "        if bottoms is None:\n",
    "            bottoms = np.zeros_like(vals)\n",
    "        top = bottoms + vals\n",
    "        print(sty)\n",
    "        sty.update(plot_kwargs)\n",
    "        print(sty)\n",
    "        ret = plot_func(ax, edges, top, bottoms=bottoms,\n",
    "                        label=label, **sty)\n",
    "        bottoms = top\n",
    "        arts[label] = ret\n",
    "    ax.legend(fontsize=10)\n",
    "    return arts\n",
    "\n",
    "edges = np.linspace(-3, 3, 20, endpoint=True)\n",
    "hist_func = partial(np.histogram, bins=edges)\n",
    "\n",
    "color_cycle = cycler(facecolor=plt.rcParams['axes.prop_cycle'][:4])\n",
    "label_cycle = cycler(label=['set {n}'.format(n=n) for n in range(4)])\n",
    "hatch_cycle = cycler(hatch=['x', 'o', '-', '*'])\n",
    "\n",
    "np.random.seed(19680801)\n",
    "\n",
    "stack_data = np.random.randn(4, 12250)\n",
    "dict_data = dict(zip((c['label'] for c in label_cycle), stack_data))"
   ]
  },
  {
   "cell_type": "code",
   "execution_count": 37,
   "id": "1d113cca",
   "metadata": {},
   "outputs": [
    {
     "name": "stdout",
     "output_type": "stream",
     "text": [
      "{}\n",
      "{'facecolor': '#1f77b4', 'hatch': 'x'}\n",
      "{'facecolor': '#1f77b4', 'hatch': 'x'}\n",
      "v\n",
      "{'facecolor': '#ff7f0e', 'hatch': 'o'}\n",
      "{'facecolor': '#ff7f0e', 'hatch': 'o'}\n",
      "v\n",
      "{'facecolor': '#2ca02c', 'hatch': '-'}\n",
      "{'facecolor': '#2ca02c', 'hatch': '-'}\n",
      "v\n",
      "{'facecolor': '#d62728', 'hatch': '*'}\n",
      "{'facecolor': '#d62728', 'hatch': '*'}\n",
      "v\n",
      "{'edgecolor': 'w', 'orientation': 'h'}\n",
      "{'facecolor': '#1f77b4'}\n",
      "{'facecolor': '#1f77b4', 'edgecolor': 'w', 'orientation': 'h'}\n",
      "h\n",
      "{'facecolor': '#ff7f0e'}\n",
      "{'facecolor': '#ff7f0e', 'edgecolor': 'w', 'orientation': 'h'}\n",
      "h\n",
      "{'facecolor': '#2ca02c'}\n",
      "{'facecolor': '#2ca02c', 'edgecolor': 'w', 'orientation': 'h'}\n",
      "h\n",
      "{'facecolor': '#d62728'}\n",
      "{'facecolor': '#d62728', 'edgecolor': 'w', 'orientation': 'h'}\n",
      "h\n"
     ]
    },
    {
     "data": {
      "text/plain": [
       "Text(0, 0.5, 'x')"
      ]
     },
     "execution_count": 37,
     "metadata": {},
     "output_type": "execute_result"
    },
    {
     "data": {
      "image/png": "[encoded data removed]",
      "text/plain": [
       "<Figure size 648x324 with 2 Axes>"
      ]
     },
     "metadata": {
      "needs_background": "light"
     },
     "output_type": "display_data"
    }
   ],
   "source": [
    "fig, (ax1, ax2) = plt.subplots(1, 2, figsize=(9, 4.5), tight_layout=True)\n",
    "arts = stack_hist(ax1, stack_data, color_cycle + label_cycle + hatch_cycle,\n",
    "                  hist_func=hist_func)\n",
    "\n",
    "arts = stack_hist(ax2, stack_data, color_cycle,\n",
    "                  hist_func=hist_func,\n",
    "                  plot_kwargs=dict(edgecolor='w', orientation='h'))\n",
    "ax1.set_ylabel('counts')\n",
    "ax1.set_xlabel('x')\n",
    "ax2.set_xlabel('counts')\n",
    "ax2.set_ylabel('x')"
   ]
  }
 ],
 "metadata": {
  "kernelspec": {
   "display_name": "Python 3 (ipykernel)",
   "language": "python",
   "name": "python3"
  },
  "language_info": {
   "codemirror_mode": {
    "name": "ipython",
    "version": 3
   },
   "file_extension": ".py",
   "mimetype": "text/x-python",
   "name": "python",
   "nbconvert_exporter": "python",
   "pygments_lexer": "ipython3",
   "version": "3.9.5"
  }
 },
 "nbformat": 4,
 "nbformat_minor": 5
}
