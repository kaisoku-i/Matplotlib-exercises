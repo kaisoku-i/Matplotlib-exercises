{
 "cells": [
  {
   "cell_type": "code",
   "execution_count": 10,
   "id": "25750999",
   "metadata": {},
   "outputs": [
    {
     "data": {
      "text/plain": [
       "(array([2.0000e+00, 2.1000e+01, 5.1000e+01, 2.3500e+02, 7.8100e+02,\n",
       "        2.1000e+03, 4.5730e+03, 8.3390e+03, 1.2758e+04, 1.6363e+04,\n",
       "        1.7345e+04, 1.4923e+04, 1.0920e+04, 6.4830e+03, 3.1070e+03,\n",
       "        1.3810e+03, 4.5300e+02, 1.2200e+02, 3.6000e+01, 7.0000e+00]),\n",
       " array([3.20889223, 3.38336526, 3.55783829, 3.73231132, 3.90678435,\n",
       "        4.08125738, 4.25573041, 4.43020344, 4.60467647, 4.7791495 ,\n",
       "        4.95362253, 5.12809556, 5.30256859, 5.47704162, 5.65151465,\n",
       "        5.82598768, 6.00046071, 6.17493374, 6.34940677, 6.5238798 ,\n",
       "        6.69835283]),\n",
       " <BarContainer object of 20 artists>)"
      ]
     },
     "execution_count": 10,
     "metadata": {},
     "output_type": "execute_result"
    },
    {
     "data": {
      "image/png": "[encoded data removed]",
      "text/plain": [
       "<Figure size 432x288 with 2 Axes>"
      ]
     },
     "metadata": {
      "needs_background": "light"
     },
     "output_type": "display_data"
    }
   ],
   "source": [
    "import matplotlib.pyplot as plt\n",
    "import numpy as np\n",
    "from matplotlib import colors\n",
    "from matplotlib.ticker import PercentFormatter\n",
    "\n",
    "rng = np.random.default_rng(19680801)\n",
    "N_points = 100000\n",
    "n_bins = 20\n",
    "\n",
    "\n",
    "dist1 = rng.standard_normal(N_points)\n",
    "dist2 = 0.4 * rng.standard_normal(N_points) + 5\n",
    "\n",
    "fig, axs = plt.subplots(1, 2, sharey=True, tight_layout=True)\n",
    "\n",
    "\n",
    "axs[0].hist(dist1, bins=n_bins,color='y')\n",
    "axs[1].hist(dist2, bins=n_bins,color='r')"
   ]
  }
 ],
 "metadata": {
  "kernelspec": {
   "display_name": "Python 3 (ipykernel)",
   "language": "python",
   "name": "python3"
  },
  "language_info": {
   "codemirror_mode": {
    "name": "ipython",
    "version": 3
   },
   "file_extension": ".py",
   "mimetype": "text/x-python",
   "name": "python",
   "nbconvert_exporter": "python",
   "pygments_lexer": "ipython3",
   "version": "3.9.5"
  }
 },
 "nbformat": 4,
 "nbformat_minor": 5
}
